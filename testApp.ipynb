{
  "nbformat": 4,
  "nbformat_minor": 0,
  "metadata": {
    "colab": {
      "provenance": [],
      "toc_visible": true,
      "authorship_tag": "ABX9TyO5WvJx/0RRxKwgnrUz4VT1",
      "include_colab_link": true
    },
    "kernelspec": {
      "name": "python3",
      "display_name": "Python 3"
    },
    "language_info": {
      "name": "python"
    }
  },
  "cells": [
    {
      "cell_type": "markdown",
      "metadata": {
        "id": "view-in-github",
        "colab_type": "text"
      },
      "source": [
        "<a href=\"https://colab.research.google.com/github/cristhiamdaniel/MATCH-EIGHT/blob/main/testApp.ipynb\" target=\"_parent\"><img src=\"https://colab.research.google.com/assets/colab-badge.svg\" alt=\"Open In Colab\"/></a>"
      ]
    },
    {
      "cell_type": "markdown",
      "source": [
        "**Task**\n",
        "\n",
        "​\n",
        "The task is to write a function that finds pairs of integers from a list that\n",
        "sum to a given value. The function will take as input the list of numbers as\n",
        "well as the target sum.\n",
        "​\n",
        "Sample output is shown below.\n",
        "\n",
        "```\n",
        "> app 1,9,5,0,20,-4,12,16,7 12\n",
        "​\n",
        "+ 12,0\n",
        "+ 5,7\n",
        "+ 16,-4\n",
        "​\n",
        "```\n",
        "\n",
        "​\n",
        "In the example, there is an executable named `app`. It takes as command line\n",
        "arguments a comma separated list of integers, and the target integer. Your app\n",
        "doesn't need to have identical input/output mechanisms. For example, you could\n",
        "read from a file instead of the command line.\n",
        "​\n",
        "You can assume that all input values are integers. You can assume that there aren't\n",
        "any repeat values in the list.\n",
        "​\n",
        "The algorithm to find the pairs must be faster than O(n^2). All edge cases\n",
        "should be handled appropriately. This is _not_ a closed book test. You are\n",
        "encouraged to reach out with any questions that you come across."
      ],
      "metadata": {
        "id": "VtCuAornI6Q1"
      }
    },
    {
      "cell_type": "markdown",
      "source": [
        "# app1.py\n",
        "\n",
        "The ```app1.py``` program has implemented the ```convertList(l)``` function that converts the list of strings supplied by the command line arguments to a list of integers. Then, thanks to the ```findPairs(arr,sum)``` function, find the pairs of numbers that add up to the objective value."
      ],
      "metadata": {
        "id": "ufX1EgVEI99l"
      }
    },
    {
      "cell_type": "code",
      "execution_count": null,
      "metadata": {
        "colab": {
          "base_uri": "https://localhost:8080/"
        },
        "id": "rnHiNDCHFino",
        "outputId": "0db6cb8a-27ed-4436-e462-e30d38a78c09"
      },
      "outputs": [
        {
          "output_type": "stream",
          "name": "stdout",
          "text": [
            "Writing app1.py\n"
          ]
        }
      ],
      "source": [
        "%%writefile app1.py  \n",
        "import sys\n",
        "\n",
        "def convertList(l):\n",
        "    listaEnteros = []\n",
        "    for x in l:\n",
        "        listaEnteros.append(int(x))\n",
        "    return listaEnteros\n",
        "\n",
        "def findPairs(arr, sum):\n",
        "    pairs = []\n",
        "    numbers_viewed = {}\n",
        "    for num in arr:\n",
        "        missing_number = sum - num\n",
        "        if missing_number in numbers_viewed:\n",
        "            pairs.append((num, missing_number))\n",
        "        else:\n",
        "            numbers_viewed[num] = True\n",
        "    return pairs\n",
        "\n",
        "def main():\n",
        "    if len(sys.argv) == 3:\n",
        "        l = sys.argv[1].split(',')\n",
        "        target = int(sys.argv[2])\n",
        "\n",
        "        l = convertList(l)\n",
        "        result = findPairs(l, target)\n",
        "\n",
        "        for x in result:\n",
        "            print(x)\n",
        "\n",
        "    else:\n",
        "        print(\"The data entered is incorrect\")\n",
        "\n",
        "if __name__ == '__main__':\n",
        "    main()"
      ]
    },
    {
      "cell_type": "markdown",
      "source": [
        "# app2.py\n",
        "\n",
        "The ```app2.py``` program takes the ```app1.py``` program as a base and adds the ```readFile(name)``` function that allows reading an external file instead of the command line, if the user deems it necessary.\n"
      ],
      "metadata": {
        "id": "HZyZejOCJv_5"
      }
    },
    {
      "cell_type": "code",
      "source": [
        "%%writefile file\n",
        "1,9,5,0,20,-4,12,16,7 12\n",
        "1,2,3,4,5 5"
      ],
      "metadata": {
        "colab": {
          "base_uri": "https://localhost:8080/"
        },
        "id": "2m6P_nDnG-Fm",
        "outputId": "13c133c0-0061-4fd2-83c5-b07342e0495e"
      },
      "execution_count": null,
      "outputs": [
        {
          "output_type": "stream",
          "name": "stdout",
          "text": [
            "Writing file\n"
          ]
        }
      ]
    },
    {
      "cell_type": "code",
      "source": [
        "%%writefile app2.py  \n",
        "\n",
        "import sys\n",
        "\n",
        "def convertList(l):\n",
        "    listaEnteros = []\n",
        "    for x in l:\n",
        "        listaEnteros.append(int(x))\n",
        "    return listaEnteros\n",
        "\n",
        "def findPairs(arr, sum):\n",
        "    pairs = []\n",
        "    numbers_viewed = {}\n",
        "    for num in arr:\n",
        "        missing_number = sum - num\n",
        "        if missing_number in numbers_viewed:\n",
        "            pairs.append((num, missing_number))\n",
        "        else:\n",
        "            numbers_viewed[num] = True\n",
        "    return pairs\n",
        "\n",
        "def readFile(name):\n",
        "    file = open(name, 'r')\n",
        "    lines = file.readlines()\n",
        "    lines = [x.strip() for x in lines]\n",
        "    file.close()\n",
        "    return lines\n",
        "\n",
        "def main():\n",
        "    if len(sys.argv) == 3:\n",
        "        l = sys.argv[1].split(',')\n",
        "        target = int(sys.argv[2])\n",
        "\n",
        "        l = convertList(l)\n",
        "        result = findPairs(l, target)\n",
        "\n",
        "        for x in result:\n",
        "            print(x)\n",
        "    \n",
        "    elif len(sys.argv) == 2:\n",
        "\n",
        "        name = sys.argv[1]\n",
        "        tex = readFile(name)\n",
        "\n",
        "        for i in range(len(tex)):\n",
        "            lista = tex[i].split()\n",
        "            num = lista[0]\n",
        "\n",
        "            listaNum = num.split(',')\n",
        "            target = lista[1]\n",
        "            l = convertList(listaNum)\n",
        "            target = int(target)\n",
        "            result = findPairs(l, target)\n",
        "\n",
        "            for x in result:\n",
        "                print(x)\n",
        "\n",
        "    else:\n",
        "        print(\"The data entered is incorrect\")\n",
        "\n",
        "if __name__ == '__main__':\n",
        "    main()"
      ],
      "metadata": {
        "colab": {
          "base_uri": "https://localhost:8080/"
        },
        "id": "8YQ-q2neGlJn",
        "outputId": "0b28ddc8-6677-4f7f-e45b-89c9bdcfc0c8"
      },
      "execution_count": null,
      "outputs": [
        {
          "output_type": "stream",
          "name": "stdout",
          "text": [
            "Writing app2.py\n"
          ]
        }
      ]
    },
    {
      "cell_type": "markdown",
      "source": [
        "# app3.py\n",
        "\n",
        "In this third program, what is done is to simplify the lines of code using the ```enumerate``` function to iterate over the ```arr``` and eliminate the declaration of the ```for``` loop, also the ```map``` function together with the ```strip``` function to eliminate the list comprehension:"
      ],
      "metadata": {
        "id": "kK_g-xFNKdJM"
      }
    },
    {
      "cell_type": "code",
      "source": [
        "%%writefile app3.py\n",
        "\n",
        "import sys\n",
        "\n",
        "def convertList(l):\n",
        "    return list(map(int, l))\n",
        "\n",
        "def findPairs(arr, sum):\n",
        "    pairs = [(num, sum - num) for i, num in enumerate(arr) if num != sum - num and (sum - num) in arr[:i] + arr[i + 1:] and num < sum - num]\n",
        "    return list(set(pairs))\n",
        "\n",
        "\n",
        "def readFile(name):\n",
        "    with open(name, 'r') as file:\n",
        "        lines = list(map(str.strip, file.readlines()))\n",
        "    return lines\n",
        "\n",
        "def main():\n",
        "    if len(sys.argv) == 3:\n",
        "        l = convertList(sys.argv[1].split(','))\n",
        "        result = findPairs(l, int(sys.argv[2]))\n",
        "        print(*result, sep='\\n')\n",
        "    elif len(sys.argv) == 2:\n",
        "        tex = readFile(sys.argv[1])\n",
        "        for i in range(len(tex)):\n",
        "            l = convertList(tex[i].split()[0].split(','))\n",
        "            result = findPairs(l, int(tex[i].split()[1]))\n",
        "            print(*result, sep='\\n')\n",
        "    else:\n",
        "        print(\"The data entered is incorrect\")\n",
        "\n",
        "if __name__ == '__main__':\n",
        "    main()"
      ],
      "metadata": {
        "colab": {
          "base_uri": "https://localhost:8080/"
        },
        "id": "WE9h1UO1H5Fk",
        "outputId": "5c25f309-c5f2-47e6-aea1-2505ce3908dc"
      },
      "execution_count": null,
      "outputs": [
        {
          "output_type": "stream",
          "name": "stdout",
          "text": [
            "Writing app3.py\n"
          ]
        }
      ]
    },
    {
      "cell_type": "markdown",
      "source": [
        "# app4.py\n",
        "\n",
        "Finally, a last example of the application using object-oriented programming is provided."
      ],
      "metadata": {
        "id": "Un0OqSP5LDeD"
      }
    },
    {
      "cell_type": "code",
      "source": [
        "%%writefile app4.py\n",
        "\n",
        "import sys\n",
        "\n",
        "class PairsFinder:\n",
        "    def __init__(self, argv):\n",
        "        self.argv = argv\n",
        "        self.run()\n",
        "    def convert_list(self, l):\n",
        "        return list(map(int, l))\n",
        "    def find_pairs(self, arr, sum):\n",
        "        pairs = [(num, sum - num) for i, num in enumerate(arr) if num != sum - num and (sum - num) in arr[:i] + arr[i + 1:] and num < sum - num]\n",
        "        return pairs\n",
        "    def read_file(self, name):\n",
        "        with open(name, 'r') as file:\n",
        "            lines = list(map(str.strip, file.readlines()))\n",
        "        return lines\n",
        "    def run(self):\n",
        "        if len(self.argv) == 3:\n",
        "            l = self.convert_list(self.argv[1].split(','))\n",
        "            result = self.find_pairs(l, int(self.argv[2]))\n",
        "            print(*result, sep='\\n')\n",
        "        elif len(self.argv) == 2:\n",
        "            tex = self.read_file(self.argv[1])\n",
        "            for i in range(len(tex)):\n",
        "                l = self.convert_list(tex[i].split()[0].split(','))\n",
        "                result = self.find_pairs(l, int(tex[i].split()[1]))\n",
        "                print(*result, sep='\\n')\n",
        "        else:\n",
        "            print(\"The data entered is incorrect\")\n",
        "\n",
        "if __name__ == '__main__':\n",
        "    pairs_finder = PairsFinder(sys.argv)"
      ],
      "metadata": {
        "colab": {
          "base_uri": "https://localhost:8080/"
        },
        "id": "yQC5fhHuIYvv",
        "outputId": "20a07436-6b8e-4c97-ca05-5187e35fedea"
      },
      "execution_count": null,
      "outputs": [
        {
          "output_type": "stream",
          "name": "stdout",
          "text": [
            "Overwriting app4.py\n"
          ]
        }
      ]
    },
    {
      "cell_type": "code",
      "source": [
        "%%shell \n",
        "python app1.py "
      ],
      "metadata": {
        "colab": {
          "base_uri": "https://localhost:8080/"
        },
        "id": "O2mSblUSGz5Y",
        "outputId": "706a4ca3-efee-4daf-a9e0-a3409af15b69"
      },
      "execution_count": null,
      "outputs": [
        {
          "output_type": "stream",
          "name": "stdout",
          "text": [
            "The data entered is incorrect\n"
          ]
        },
        {
          "output_type": "execute_result",
          "data": {
            "text/plain": []
          },
          "metadata": {},
          "execution_count": 6
        }
      ]
    },
    {
      "cell_type": "code",
      "source": [
        "%%shell \n",
        "python app1.py 1,9,5,0,20,-4,12,16,7 12"
      ],
      "metadata": {
        "colab": {
          "base_uri": "https://localhost:8080/"
        },
        "id": "UmFcFy0EF7Ac",
        "outputId": "90a91664-0666-4c9b-f59d-b3abe1c8f46c"
      },
      "execution_count": null,
      "outputs": [
        {
          "output_type": "stream",
          "name": "stdout",
          "text": [
            "(12, 0)\n",
            "(16, -4)\n",
            "(7, 5)\n"
          ]
        },
        {
          "output_type": "execute_result",
          "data": {
            "text/plain": []
          },
          "metadata": {},
          "execution_count": 7
        }
      ]
    },
    {
      "cell_type": "code",
      "source": [
        "%%shell \n",
        "python app2.py "
      ],
      "metadata": {
        "colab": {
          "base_uri": "https://localhost:8080/"
        },
        "id": "_zol28FEG7km",
        "outputId": "244a6f0c-2c45-492e-f17b-5d8544b85924"
      },
      "execution_count": null,
      "outputs": [
        {
          "output_type": "stream",
          "name": "stdout",
          "text": [
            "The data entered is incorrect\n"
          ]
        },
        {
          "output_type": "execute_result",
          "data": {
            "text/plain": []
          },
          "metadata": {},
          "execution_count": 8
        }
      ]
    },
    {
      "cell_type": "code",
      "source": [
        "%%shell \n",
        "python app2.py 1,9,5,0,20,-4,12,16,7 12"
      ],
      "metadata": {
        "colab": {
          "base_uri": "https://localhost:8080/"
        },
        "id": "rl1gCW5SG381",
        "outputId": "0f1330cb-c483-43f4-ce43-db23d873d51e"
      },
      "execution_count": null,
      "outputs": [
        {
          "output_type": "stream",
          "name": "stdout",
          "text": [
            "(12, 0)\n",
            "(16, -4)\n",
            "(7, 5)\n"
          ]
        },
        {
          "output_type": "execute_result",
          "data": {
            "text/plain": []
          },
          "metadata": {},
          "execution_count": 9
        }
      ]
    },
    {
      "cell_type": "code",
      "source": [
        "%%shell \n",
        "python app2.py file"
      ],
      "metadata": {
        "colab": {
          "base_uri": "https://localhost:8080/"
        },
        "id": "0uihW_WuHJJF",
        "outputId": "65b799f1-9540-4d7d-ebaa-13eafebcdc2d"
      },
      "execution_count": null,
      "outputs": [
        {
          "output_type": "stream",
          "name": "stdout",
          "text": [
            "(12, 0)\n",
            "(16, -4)\n",
            "(7, 5)\n",
            "(3, 2)\n",
            "(4, 1)\n"
          ]
        },
        {
          "output_type": "execute_result",
          "data": {
            "text/plain": []
          },
          "metadata": {},
          "execution_count": 10
        }
      ]
    },
    {
      "cell_type": "code",
      "source": [
        "%%shell \n",
        "python app3.py "
      ],
      "metadata": {
        "colab": {
          "base_uri": "https://localhost:8080/"
        },
        "id": "SQLf849FLYeM",
        "outputId": "702fe61a-81c0-4984-85e1-52c620f3de32"
      },
      "execution_count": null,
      "outputs": [
        {
          "output_type": "stream",
          "name": "stdout",
          "text": [
            "The data entered is incorrect\n"
          ]
        },
        {
          "output_type": "execute_result",
          "data": {
            "text/plain": []
          },
          "metadata": {},
          "execution_count": 11
        }
      ]
    },
    {
      "cell_type": "code",
      "source": [
        "%%shell \n",
        "python app3.py 1,9,5,0,20,-4,12,16,7 12"
      ],
      "metadata": {
        "colab": {
          "base_uri": "https://localhost:8080/"
        },
        "id": "jzCcpQhYID3E",
        "outputId": "1f149ee3-c55a-437b-d2ab-b178ca795d56"
      },
      "execution_count": null,
      "outputs": [
        {
          "output_type": "stream",
          "name": "stdout",
          "text": [
            "(0, 12)\n",
            "(-4, 16)\n",
            "(5, 7)\n"
          ]
        },
        {
          "output_type": "execute_result",
          "data": {
            "text/plain": []
          },
          "metadata": {},
          "execution_count": 12
        }
      ]
    },
    {
      "cell_type": "code",
      "source": [
        "%%shell \n",
        "python app3.py file"
      ],
      "metadata": {
        "colab": {
          "base_uri": "https://localhost:8080/"
        },
        "id": "p8mDaFdVLWs8",
        "outputId": "b8741f04-ce4a-4583-89f0-d6e36b31ed5c"
      },
      "execution_count": null,
      "outputs": [
        {
          "output_type": "stream",
          "name": "stdout",
          "text": [
            "(0, 12)\n",
            "(-4, 16)\n",
            "(5, 7)\n",
            "(2, 3)\n",
            "(1, 4)\n"
          ]
        },
        {
          "output_type": "execute_result",
          "data": {
            "text/plain": []
          },
          "metadata": {},
          "execution_count": 13
        }
      ]
    },
    {
      "cell_type": "code",
      "source": [
        "%%shell \n",
        "python app4.py "
      ],
      "metadata": {
        "colab": {
          "base_uri": "https://localhost:8080/"
        },
        "id": "UbozIaiNLdPY",
        "outputId": "509f5253-b387-47b5-90c0-2dee6031b6e3"
      },
      "execution_count": null,
      "outputs": [
        {
          "output_type": "stream",
          "name": "stdout",
          "text": [
            "The data entered is incorrect\n"
          ]
        },
        {
          "output_type": "execute_result",
          "data": {
            "text/plain": []
          },
          "metadata": {},
          "execution_count": 16
        }
      ]
    },
    {
      "cell_type": "code",
      "source": [
        "%%shell \n",
        "python app4.py 1,9,5,0,20,-4,12,16,7 12"
      ],
      "metadata": {
        "colab": {
          "base_uri": "https://localhost:8080/"
        },
        "id": "9BIR5jPaLeyH",
        "outputId": "00bb8a06-8245-45c4-d11f-522864dc96ad"
      },
      "execution_count": null,
      "outputs": [
        {
          "output_type": "stream",
          "name": "stdout",
          "text": [
            "(5, 7)\n",
            "(0, 12)\n",
            "(-4, 16)\n"
          ]
        },
        {
          "output_type": "execute_result",
          "data": {
            "text/plain": []
          },
          "metadata": {},
          "execution_count": 17
        }
      ]
    },
    {
      "cell_type": "code",
      "source": [
        "%%shell \n",
        "python app4.py file"
      ],
      "metadata": {
        "colab": {
          "base_uri": "https://localhost:8080/"
        },
        "id": "feBaloz4LgU1",
        "outputId": "fa8ec68b-a684-4aa3-f0f9-51c8fb425933"
      },
      "execution_count": null,
      "outputs": [
        {
          "output_type": "stream",
          "name": "stdout",
          "text": [
            "(5, 7)\n",
            "(0, 12)\n",
            "(-4, 16)\n",
            "(1, 4)\n",
            "(2, 3)\n"
          ]
        },
        {
          "output_type": "execute_result",
          "data": {
            "text/plain": []
          },
          "metadata": {},
          "execution_count": 18
        }
      ]
    }
  ]
}